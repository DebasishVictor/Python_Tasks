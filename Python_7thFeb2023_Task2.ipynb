{
 "cells": [
  {
   "cell_type": "markdown",
   "id": "2fb01b42",
   "metadata": {},
   "source": [
    "### Q1. You are writing code for a company. The requirement of the company is that you create a python function that will check whether the password entered by the user is correct or not. The function should take the password as input and return the string “Valid Password” if the entered password follows the below-given password guidelines else it should return “Invalid Password”.\n",
    "\n",
    "\n",
    "#### Notes..\n",
    "#### 1. The Password should contain at least two uppercase letters and at least two lowercase letters.\n",
    "#### 2. The Password should contain at least a number and three special characters.\n",
    "#### 3. The length of the password should be 10 characters long.\n"
   ]
  },
  {
   "cell_type": "code",
   "execution_count": 14,
   "id": "0c70a611",
   "metadata": {},
   "outputs": [
    {
     "name": "stdout",
     "output_type": "stream",
     "text": [
      "Enter Password:: ()\"AbGHj14\n",
      "Valid Password\n"
     ]
    }
   ],
   "source": [
    "def check_pass(pass_input):\n",
    "    cl=0\n",
    "    cu=0\n",
    "    cs=0\n",
    "    cn=0\n",
    "    if len(pass_input)==10:\n",
    "        for i in pass_input:\n",
    "            if i.isnumeric():\n",
    "                cn+=1\n",
    "            elif i.islower():\n",
    "                cl+=1\n",
    "            elif i.isupper():\n",
    "                cu+=1\n",
    "            elif i in \"\"\"\" !#$%&'()\"*+,-./:;<=>?@[\\]^_`{|}~\"\"\":\n",
    "                cs+=1\n",
    "        if cn>=1 and cl>=2 and cu>=2 and cs==3:\n",
    "            print(\"Valid Password\")\n",
    "        else:\n",
    "            print(\"Invalid Password\")\n",
    "    else:\n",
    "        print(\"Invalid Password\")\n",
    "\n",
    "pass_input=input(\"Enter Password:: \")\n",
    "check_pass(pass_input)"
   ]
  },
  {
   "cell_type": "markdown",
   "id": "93c9defa",
   "metadata": {},
   "source": [
    "### Q2. Solve the below-given questions using at least one of the following: \n",
    "\n",
    "#### 1. Lambda function\n",
    "#### 2. Filter function\n",
    "#### 3. Map function\n",
    "#### 4. List Comprehension\n",
    "\n",
    "##### a. Check if the string starts with a particular letter.\n",
    "##### b.Check if the string is numeric.\n",
    "##### c. Sort a list of tuples having fruit names and their quantity. \n",
    "#####    [(\"mango\",99),(\"orange\",80), (\"grapes\", 1000)]\n",
    "##### d. Find the squares of numbers from 1 to 10\n",
    "##### e. Find the cube root of numbers from 1 to 10\n",
    "##### f. Check if a given number is even\n",
    "##### g. Filter odd numbers from the given list.\n",
    "#####    [1,2,3,4,5,6,7,8,9,10]\n",
    "##### h. Sort a list of integers into positive and negative integers lists.\n",
    "#####    [1,2,3,4,5,6,-1,-2,-3,-4,-5,0]"
   ]
  },
  {
   "cell_type": "code",
   "execution_count": 41,
   "id": "7fa26a5a",
   "metadata": {},
   "outputs": [
    {
     "name": "stdout",
     "output_type": "stream",
     "text": [
      "Enter a meassage::Victor is a DataScientist\n",
      "Enter a character to find::V\n",
      "Successful\n"
     ]
    }
   ],
   "source": [
    "# a. Check if the string starts with a particular letter.\n",
    "\n",
    "string=input('Enter a meassage::')\n",
    "letter=input(\"Enter a character to find::\")\n",
    "check=lambda s,c:str.startswith(s,c) \n",
    "print_mes=lambda x:\"Successful\" if x==True else \"Not Successful\"\n",
    "res=check(string,letter)\n",
    "res2=print_mes(res)\n",
    "print(res2)"
   ]
  },
  {
   "cell_type": "code",
   "execution_count": 47,
   "id": "a51c2123",
   "metadata": {},
   "outputs": [
    {
     "name": "stdout",
     "output_type": "stream",
     "text": [
      "Enter a meassage::44445855\n"
     ]
    },
    {
     "data": {
      "text/plain": [
       "'Yes Numeric'"
      ]
     },
     "execution_count": 47,
     "metadata": {},
     "output_type": "execute_result"
    }
   ],
   "source": [
    "# b.Check if the string is numeric.\n",
    "\n",
    "string=input('Enter a meassage::')\n",
    "check_num=lambda x:\"Yes Numeric\" if str.isnumeric(string) else \"Not Numeric\"\n",
    "check_num(string)"
   ]
  },
  {
   "cell_type": "code",
   "execution_count": 67,
   "id": "efe90fb6",
   "metadata": {},
   "outputs": [
    {
     "name": "stdout",
     "output_type": "stream",
     "text": [
      "[('orange', 80), ('mango', 99), ('grapes', 1000)]\n",
      "[('grapes', 1000), ('mango', 99), ('orange', 80)]\n"
     ]
    }
   ],
   "source": [
    "# c. Sort a list of tuples having fruit names and their quantity.\n",
    "#    [(\"mango\",99),(\"orange\",80), (\"grapes\", 1000)]\n",
    "\n",
    "l=[(\"mango\",99),(\"orange\",80), (\"grapes\", 1000)]\n",
    "l.sort(key=lambda x:x[1])\n",
    "print(l)\n",
    "\n",
    "l=[(\"mango\",99),(\"orange\",80), (\"grapes\", 1000)]\n",
    "l.sort(key=lambda x:x[0])\n",
    "print(l)\n"
   ]
  },
  {
   "cell_type": "code",
   "execution_count": 68,
   "id": "842384e3",
   "metadata": {},
   "outputs": [
    {
     "name": "stdout",
     "output_type": "stream",
     "text": [
      "[1, 4, 9, 16, 25, 36, 49, 64, 81, 100]\n"
     ]
    }
   ],
   "source": [
    "# d. Find the squares of numbers from 1 to 10\n",
    "\n",
    "print(list(map(lambda x:x**2,range(1,11))))"
   ]
  },
  {
   "cell_type": "code",
   "execution_count": 74,
   "id": "3a26b522",
   "metadata": {},
   "outputs": [
    {
     "name": "stdout",
     "output_type": "stream",
     "text": [
      "[1.0, 1.2599210498948732, 1.4422495703074083, 1.5874010519681994, 1.7099759466766968, 1.8171205928321397, 1.912931182772389, 2.0, 2.080083823051904, 2.154434690031884]\n"
     ]
    }
   ],
   "source": [
    "# e. Find the cube root of numbers from 1 to 10\n",
    "\n",
    "print(list(map(lambda x:pow(x,1/3),range(1,11))))"
   ]
  },
  {
   "cell_type": "code",
   "execution_count": 70,
   "id": "676c0c1c",
   "metadata": {},
   "outputs": [
    {
     "name": "stdout",
     "output_type": "stream",
     "text": [
      "Enter number:: 8\n"
     ]
    },
    {
     "data": {
      "text/plain": [
       "'Even'"
      ]
     },
     "execution_count": 70,
     "metadata": {},
     "output_type": "execute_result"
    }
   ],
   "source": [
    "# f. Check if a given number is even\n",
    "\n",
    "number = int(input(\"Enter number:: \"))\n",
    "even=lambda x:\"Even\" if x%2==0 else \"Odd\"\n",
    "even(number)"
   ]
  },
  {
   "cell_type": "code",
   "execution_count": 71,
   "id": "fa2f6aab",
   "metadata": {},
   "outputs": [
    {
     "name": "stdout",
     "output_type": "stream",
     "text": [
      "[1, 3, 5, 7, 9]\n"
     ]
    }
   ],
   "source": [
    "# g. Filter odd numbers from the given list. [1,2,3,4,5,6,7,8,9,10]\n",
    "li=[1,2,3,4,5,6,7,8,9,10]\n",
    "print(list(filter(lambda x:x%2==1,li)))"
   ]
  },
  {
   "cell_type": "code",
   "execution_count": 73,
   "id": "1f561114",
   "metadata": {},
   "outputs": [
    {
     "name": "stdout",
     "output_type": "stream",
     "text": [
      "[1, 2, 3, 4, 5, 6, 0]\n",
      "[-1, -2, -3, -4, -5]\n"
     ]
    }
   ],
   "source": [
    "# h. Sort a list of integers into positive and negative integers lists.\n",
    "#    [1,2,3,4,5,6,-1,-2,-3,-4,-5,0]\n",
    "\n",
    "li=[1,2,3,4,5,6,-1,-2,-3,-4,-5,0]\n",
    "print(list(filter(lambda x:x>=0,li)))\n",
    "print(list(filter(lambda x:x<0,li)))"
   ]
  },
  {
   "cell_type": "code",
   "execution_count": null,
   "id": "97f8480b",
   "metadata": {},
   "outputs": [],
   "source": []
  }
 ],
 "metadata": {
  "kernelspec": {
   "display_name": "Python 3 (ipykernel)",
   "language": "python",
   "name": "python3"
  },
  "language_info": {
   "codemirror_mode": {
    "name": "ipython",
    "version": 3
   },
   "file_extension": ".py",
   "mimetype": "text/x-python",
   "name": "python",
   "nbconvert_exporter": "python",
   "pygments_lexer": "ipython3",
   "version": "3.9.12"
  }
 },
 "nbformat": 4,
 "nbformat_minor": 5
}
