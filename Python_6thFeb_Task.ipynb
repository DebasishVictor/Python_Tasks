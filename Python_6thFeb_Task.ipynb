{
 "cells": [
  {
   "cell_type": "code",
   "execution_count": null,
   "id": "c066e271",
   "metadata": {},
   "outputs": [],
   "source": [
    "\n",
    "\n",
    "\n",
    "Input Sentence: I want to become a Data Scientist.\n",
    "\n",
    "\n",
    "Encrypt the above input sentence using the program you just created.\n",
    "\n",
    "\n",
    "Note: Convert the given input sentence into lowercase before encrypting. The final output should be \n",
    "lowercase"
   ]
  },
  {
   "cell_type": "markdown",
   "id": "0fe47923",
   "metadata": {},
   "source": [
    "### Q1. Create a function which will take a list as an argument and return the product of all the numbers after creating a flat list.Use the below-given list as an argument for your function.\n",
    "### list1 = [1,2,3,4, [44,55,66, True], False, (34,56,78,89,34), {1,2,3,3,2,1}, {1:34, \"key2\": [55, 67, 78, 89], 4: (45, 22, 61, 34)}, [56, 'data science'], 'Machine Learning']"
   ]
  },
  {
   "cell_type": "code",
   "execution_count": 25,
   "id": "12b98e1e",
   "metadata": {},
   "outputs": [
    {
     "name": "stdout",
     "output_type": "stream",
     "text": [
      "4134711838987085478833841242112000\n"
     ]
    }
   ],
   "source": [
    "list1 = [1,2,3,4, [44,55,66, True], False, (34,56,78,89,34), {1,2,3,3,2,1}, {1:34, \"key2\": [55, 67, 78, 89], 4: (45, \n",
    "22, 61, 34)}, [56, 'data science'], 'Machine Learning']\n",
    "\n",
    "total_list_int=[]\n",
    "def single_entry_checking(entry):\n",
    "    if type(entry)==int or type(entry)==float:\n",
    "        total_list_int.append(entry)\n",
    "        return total_list_int\n",
    "    elif type(entry)==list or type(entry)==tuple:\n",
    "        check(entry)\n",
    "    elif type(entry)==dict:\n",
    "        for k,v in entry.items():\n",
    "            single_entry_checking(k)\n",
    "            single_entry_checking(v)\n",
    "    elif type(entry)==set:\n",
    "        for i in entry:\n",
    "            single_entry_checking(i)\n",
    "        \n",
    "            \n",
    "def check(entry):\n",
    "    for item in entry:\n",
    "        single_entry_checking(item)\n",
    "    \n",
    "        \n",
    "single_entry_checking(list1) \n",
    "from functools import reduce\n",
    "print(reduce(lambda x,y:x*y,total_list_int))"
   ]
  },
  {
   "cell_type": "markdown",
   "id": "78149be7",
   "metadata": {},
   "source": [
    "### Q2. Write a python program for encrypting a message sent to you by your friend. The logic of encryption should be such that, for a the output should be z. For b, the output should be y. For c, the output should be x respectively. Also, the whitespace should be replaced with a dollar sign. Keep the punctuation marks unchanged."
   ]
  },
  {
   "cell_type": "code",
   "execution_count": 31,
   "id": "3e5e4b55",
   "metadata": {},
   "outputs": [
    {
     "name": "stdout",
     "output_type": "stream",
     "text": [
      "Enter your meaasge::I want to become a Data Scientist.\n"
     ]
    },
    {
     "data": {
      "text/plain": [
       "'i$wznt$to$yexome$z$dztz$sxientist.'"
      ]
     },
     "execution_count": 31,
     "metadata": {},
     "output_type": "execute_result"
    }
   ],
   "source": [
    "message=input(\"Enter your meaasge::\")\n",
    "encrypted_message=\"\"\n",
    "for i in message:\n",
    "    if str.lower(i)=='a':\n",
    "        encrypted_message=encrypted_message+'z'\n",
    "    elif str.lower(i)=='b':\n",
    "        encrypted_message=encrypted_message+'y'\n",
    "    elif str.lower(i)=='c':\n",
    "        encrypted_message=encrypted_message+'x'\n",
    "    elif i==' ':\n",
    "        encrypted_message=encrypted_message+'$'\n",
    "    else:\n",
    "        encrypted_message=encrypted_message+i\n",
    "str.lower(encrypted_message)"
   ]
  },
  {
   "cell_type": "code",
   "execution_count": null,
   "id": "af00a5e9",
   "metadata": {},
   "outputs": [],
   "source": []
  }
 ],
 "metadata": {
  "kernelspec": {
   "display_name": "Python 3 (ipykernel)",
   "language": "python",
   "name": "python3"
  },
  "language_info": {
   "codemirror_mode": {
    "name": "ipython",
    "version": 3
   },
   "file_extension": ".py",
   "mimetype": "text/x-python",
   "name": "python",
   "nbconvert_exporter": "python",
   "pygments_lexer": "ipython3",
   "version": "3.9.12"
  }
 },
 "nbformat": 4,
 "nbformat_minor": 5
}
